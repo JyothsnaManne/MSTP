{
 "cells": [
  {
   "cell_type": "code",
   "execution_count": 1,
   "metadata": {},
   "outputs": [],
   "source": [
    "#####FILES\n",
    "###document to store info or data\n",
    "### main operations on files in python(read,write)\n",
    "### 3 steps to work with files in python(1.identify and open 2.perform operations 3.close the file)"
   ]
  },
  {
   "cell_type": "code",
   "execution_count": 5,
   "metadata": {},
   "outputs": [
    {
     "name": "stdout",
     "output_type": "stream",
     "text": [
      "jyOThsNA\n"
     ]
    }
   ],
   "source": [
    "###reading operation\n",
    "###to open a file in python we have open(file_name,operation)(r,w,)\n",
    "###to close a file we have close()\n",
    "f=open(\"book.txt\",\"r\")###when file doesnot exit it rises error\n",
    "data=f.read()\n",
    "print(data)\n",
    "f.close()"
   ]
  },
  {
   "cell_type": "code",
   "execution_count": 6,
   "metadata": {},
   "outputs": [],
   "source": [
    "####write operation\n",
    "f=open(\"book.txt\",\"w\")### when file doesnot exit it creates file in write mode\n",
    "f.write(\"jyOThsNA\")\n",
    "f.close()"
   ]
  },
  {
   "cell_type": "code",
   "execution_count": 7,
   "metadata": {},
   "outputs": [],
   "source": [
    "#####write the content from book,txt to Jyo1.txt\n",
    "f=open(\"book.txt\",'r')\n",
    "f1=open(\"Jyo1.txt\",'w')\n",
    "d=f.read()\n",
    "f1.write(d)\n",
    "f1.close()\n",
    "f.close()"
   ]
  },
  {
   "cell_type": "code",
   "execution_count": 9,
   "metadata": {},
   "outputs": [],
   "source": [
    "f=open(\"Jyo1.txt\",'a')\n",
    "f.write(\"JYOTHSNA\")\n",
    "f.close()"
   ]
  },
  {
   "cell_type": "code",
   "execution_count": 12,
   "metadata": {},
   "outputs": [
    {
     "name": "stdout",
     "output_type": "stream",
     "text": [
      "jyOThsNAJYOTHSNA 1\n"
     ]
    }
   ],
   "source": [
    "f=open(\"Jyo1.txt\",'r')\n",
    "count=0\n",
    "for line in f:\n",
    "    count=count+1\n",
    "    print(line,count)"
   ]
  },
  {
   "cell_type": "code",
   "execution_count": 15,
   "metadata": {},
   "outputs": [],
   "source": [
    "####update mode\n",
    "f=open(\"Book.txt\",'r+')\n",
    "f.write('jyo123')\n",
    "f.close()"
   ]
  },
  {
   "cell_type": "code",
   "execution_count": 25,
   "metadata": {},
   "outputs": [
    {
     "name": "stdout",
     "output_type": "stream",
     "text": [
      "0\n",
      "16\n",
      "na\n",
      "HYOTHSNA\n",
      "HYotHSna\n",
      "jyothsna\n",
      "48\n"
     ]
    }
   ],
   "source": [
    "####position of cursor\n",
    "f=open(\"Book.txt\",'r')\n",
    "print(f.tell())\n",
    "data=f.read()\n",
    "f.seek(16)\n",
    "print(f.tell())\n",
    "data=f.read()\n",
    "\n",
    "print(data)\n",
    "print(f.tell())\n",
    "\n",
    "f.close()"
   ]
  },
  {
   "cell_type": "code",
   "execution_count": 26,
   "metadata": {},
   "outputs": [],
   "source": [
    "###### operation of w+\n",
    "f=open(\"Book.txt\",'w+')\n",
    "data=f.read()\n",
    "f.close()\n"
   ]
  },
  {
   "cell_type": "code",
   "execution_count": 30,
   "metadata": {},
   "outputs": [
    {
     "name": "stdout",
     "output_type": "stream",
     "text": [
      "lkhf\n",
      "\n"
     ]
    }
   ],
   "source": [
    "####readline function\n",
    "f=open(\"Book.txt\",'r')\n",
    "d=f.readline()\n",
    "d=f.readline()\n",
    "print(d)\n",
    "f.close()"
   ]
  },
  {
   "cell_type": "code",
   "execution_count": 31,
   "metadata": {},
   "outputs": [
    {
     "name": "stdout",
     "output_type": "stream",
     "text": [
      "['lkhf\\n', 'ipiytf\\n', 'nnbvcdhn\\n', 'ljgvcxsawrb']\n"
     ]
    }
   ],
   "source": [
    "#### readlines function(multiple lines)\n",
    "####readline function\n",
    "f=open(\"Book.txt\",'r')\n",
    "d=f.readline()\n",
    "d=f.readlines()\n",
    "print(d)\n",
    "f.close()"
   ]
  },
  {
   "cell_type": "code",
   "execution_count": null,
   "metadata": {},
   "outputs": [],
   "source": []
  }
 ],
 "metadata": {
  "kernelspec": {
   "display_name": "Python 3",
   "language": "python",
   "name": "python3"
  },
  "language_info": {
   "codemirror_mode": {
    "name": "ipython",
    "version": 3
   },
   "file_extension": ".py",
   "mimetype": "text/x-python",
   "name": "python",
   "nbconvert_exporter": "python",
   "pygments_lexer": "ipython3",
   "version": "3.7.3"
  }
 },
 "nbformat": 4,
 "nbformat_minor": 2
}
