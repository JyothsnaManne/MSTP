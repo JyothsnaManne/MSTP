{
 "cells": [
  {
   "cell_type": "code",
   "execution_count": null,
   "metadata": {},
   "outputs": [],
   "source": [
    "###### modules and packages in python\n",
    "### A python file contains function and python statements is called modules\n",
    "import mymodule"
   ]
  },
  {
   "cell_type": "code",
   "execution_count": null,
   "metadata": {},
   "outputs": [],
   "source": [
    "mymodule.welcome(\"Jyothsna\")"
   ]
  },
  {
   "cell_type": "code",
   "execution_count": null,
   "metadata": {},
   "outputs": [],
   "source": [
    "import arthimetic"
   ]
  },
  {
   "cell_type": "code",
   "execution_count": null,
   "metadata": {},
   "outputs": [],
   "source": [
    "arthimetic.operations(5,0)"
   ]
  },
  {
   "cell_type": "code",
   "execution_count": null,
   "metadata": {},
   "outputs": [],
   "source": [
    "import Game.start as g_s"
   ]
  },
  {
   "cell_type": "code",
   "execution_count": null,
   "metadata": {},
   "outputs": [],
   "source": [
    "g_s.user('jyo')"
   ]
  },
  {
   "cell_type": "code",
   "execution_count": null,
   "metadata": {},
   "outputs": [],
   "source": [
    "g_s.start(\"jyo\",10)"
   ]
  },
  {
   "cell_type": "code",
   "execution_count": null,
   "metadata": {},
   "outputs": [],
   "source": [
    "g_s.end()"
   ]
  },
  {
   "cell_type": "code",
   "execution_count": null,
   "metadata": {},
   "outputs": [],
   "source": [
    "###working with os\n",
    "import os"
   ]
  },
  {
   "cell_type": "code",
   "execution_count": null,
   "metadata": {},
   "outputs": [],
   "source": [
    "###getcwd()[get current working directory]\n",
    "os.getcwd()"
   ]
  },
  {
   "cell_type": "code",
   "execution_count": null,
   "metadata": {},
   "outputs": [],
   "source": [
    "os.listdir()"
   ]
  },
  {
   "cell_type": "code",
   "execution_count": null,
   "metadata": {},
   "outputs": [],
   "source": [
    "os.rename('Jyo1.txt','new_report.txt')"
   ]
  },
  {
   "cell_type": "code",
   "execution_count": null,
   "metadata": {},
   "outputs": [],
   "source": [
    "a=os.listdir()\n",
    "dict={}\n",
    "c=1\n",
    "for i in a:\n",
    "    dict[c]=i\n",
    "    c=c+1\n",
    "print(dict)"
   ]
  },
  {
   "cell_type": "code",
   "execution_count": null,
   "metadata": {},
   "outputs": [],
   "source": [
    "####rename all the files in the current directory by adding numbers to starting of every file\n",
    "\n",
    "c=1\n",
    "for i in os.listdir():\n",
    "    n=str(c)+i\n",
    "    os.rename(i,n)\n",
    "    c=c+1\n",
    "print(n)"
   ]
  },
  {
   "cell_type": "code",
   "execution_count": null,
   "metadata": {},
   "outputs": [],
   "source": [
    "####remove file using python\n",
    "os.rmdir(\"Untitled\")"
   ]
  },
  {
   "cell_type": "code",
   "execution_count": null,
   "metadata": {},
   "outputs": [],
   "source": [
    "###import shutil \n",
    "####which removes non-empty directory \n",
    "###which has method called rmtree(remove tree)\n",
    "####to remove files in other directory we use remove with whole path name\n",
    "###from shutil import copyfile\n",
    "##copyfile(src, dst)\n",
    "###os.path.isfile(file_name)\n",
    "##os.path.isdir(dir_name)"
   ]
  },
  {
   "cell_type": "code",
   "execution_count": null,
   "metadata": {},
   "outputs": [],
   "source": [
    "s=['sai','surya','ramu','lakshmi','sri']\n",
    "a=0\n",
    "for i in s:\n",
    "        a=a+len(i)\n",
    "print(a)"
   ]
  },
  {
   "cell_type": "code",
   "execution_count": null,
   "metadata": {},
   "outputs": [],
   "source": [
    "import re\n",
    "groups={'A':[],'B':[]}\n",
    "for i in s:\n",
    "    if(re.search('[aA]',i)):\n",
    "        groups['A'].append(i)\n",
    "        \n",
    "    else:\n",
    "        groups['B'].append(i)\n",
    "print(groups)\n"
   ]
  },
  {
   "cell_type": "code",
   "execution_count": null,
   "metadata": {},
   "outputs": [],
   "source": [
    "print('\\n',10,'\\n',67,'\\n',89)"
   ]
  },
  {
   "cell_type": "code",
   "execution_count": null,
   "metadata": {},
   "outputs": [],
   "source": [
    "print(10,20,30,sep='\\n')"
   ]
  },
  {
   "cell_type": "code",
   "execution_count": null,
   "metadata": {},
   "outputs": [],
   "source": [
    "for i in range(10):\n",
    "    print(i,end=' ')"
   ]
  },
  {
   "cell_type": "code",
   "execution_count": null,
   "metadata": {},
   "outputs": [],
   "source": [
    "s=['abc','cab','xyd','bca']\n",
    "s.sort(key=lambda x:x[2])\n",
    "print(s)"
   ]
  },
  {
   "cell_type": "code",
   "execution_count": 2,
   "metadata": {},
   "outputs": [
    {
     "name": "stdout",
     "output_type": "stream",
     "text": [
      "3\n",
      "hj\n",
      "89728\n",
      "hgdhkjd\n",
      "jahdigw\n",
      "789o\n",
      "done\n",
      "o\n"
     ]
    }
   ],
   "source": [
    "while(input()!='done'):\n",
    "    continue\n",
    "print(i)\n",
    "    "
   ]
  },
  {
   "cell_type": "code",
   "execution_count": 1,
   "metadata": {},
   "outputs": [
    {
     "name": "stdout",
     "output_type": "stream",
     "text": [
      "5\n",
      "j\n",
      "lkh\n",
      "56\n",
      "2147\n",
      "loj\n",
      "8\n",
      "DONE\n",
      "5\n",
      "2147\n"
     ]
    }
   ],
   "source": [
    "numbers=[]\n",
    "while True:\n",
    "    data=input()\n",
    "    if data=='DONE':\n",
    "        break\n",
    "    elif data.isdigit():\n",
    "        numbers.append(int(data))\n",
    "if len(numbers)>0:\n",
    "    print(min(numbers))\n",
    "    print(max(numbers))\n",
    "else:\n",
    "    print(\"it should have atleast 1 number\")"
   ]
  },
  {
   "cell_type": "code",
   "execution_count": 2,
   "metadata": {},
   "outputs": [
    {
     "data": {
      "text/plain": [
       "468"
      ]
     },
     "execution_count": 2,
     "metadata": {},
     "output_type": "execute_result"
    }
   ],
   "source": [
    "import re\n",
    "s='ram123sai345'\n",
    "numbers=[]\n",
    "sum(list(map(int,re.findall('\\d+',s))))\n",
    "        "
   ]
  },
  {
   "cell_type": "code",
   "execution_count": 3,
   "metadata": {},
   "outputs": [
    {
     "data": {
      "text/plain": [
       "268"
      ]
     },
     "execution_count": 3,
     "metadata": {},
     "output_type": "execute_result"
    }
   ],
   "source": [
    "s='ram123sai245mn156'\n",
    "numbers=[]\n",
    "sum(list(map(int,re.findall('2\\d+',s))))\n",
    "        "
   ]
  },
  {
   "cell_type": "code",
   "execution_count": null,
   "metadata": {},
   "outputs": [],
   "source": []
  }
 ],
 "metadata": {
  "kernelspec": {
   "display_name": "Python 3",
   "language": "python",
   "name": "python3"
  },
  "language_info": {
   "codemirror_mode": {
    "name": "ipython",
    "version": 3
   },
   "file_extension": ".py",
   "mimetype": "text/x-python",
   "name": "python",
   "nbconvert_exporter": "python",
   "pygments_lexer": "ipython3",
   "version": "3.7.3"
  }
 },
 "nbformat": 4,
 "nbformat_minor": 2
}
