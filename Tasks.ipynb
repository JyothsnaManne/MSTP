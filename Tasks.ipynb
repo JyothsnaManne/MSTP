{
 "cells": [
  {
   "cell_type": "code",
   "execution_count": 10,
   "metadata": {},
   "outputs": [
    {
     "name": "stdout",
     "output_type": "stream",
     "text": [
      "2\n",
      "3\n",
      "5\n",
      "7\n",
      "11\n",
      "13\n"
     ]
    }
   ],
   "source": [
    "###write a program to print first 15 prime numbers.\n",
    "\n",
    "for i in range(1,16):\n",
    "    count=0\n",
    "    for j in range(1,i+1):\n",
    "        if i%j==0:\n",
    "            count=count+1\n",
    "    if count==2:\n",
    "        print(i)"
   ]
  },
  {
   "cell_type": "code",
   "execution_count": 3,
   "metadata": {},
   "outputs": [
    {
     "name": "stdout",
     "output_type": "stream",
     "text": [
      "5\n",
      "120\n"
     ]
    }
   ],
   "source": [
    "###write a program to find factorial of a given number\n",
    "num=int(input())\n",
    "f=1\n",
    "sum=1\n",
    "for i in range(1,num+1):\n",
    "    f1=f*i\n",
    "    sum=sum*f1\n",
    "print(sum)"
   ]
  },
  {
   "cell_type": "code",
   "execution_count": 14,
   "metadata": {},
   "outputs": [
    {
     "name": "stdout",
     "output_type": "stream",
     "text": [
      "4\n",
      "2\n"
     ]
    }
   ],
   "source": [
    "##calculate the square root of a given number.\n",
    "import math\n",
    "num=int(input())\n",
    "print(int(math.sqrt(num)))"
   ]
  },
  {
   "cell_type": "code",
   "execution_count": 17,
   "metadata": {},
   "outputs": [
    {
     "name": "stdout",
     "output_type": "stream",
     "text": [
      "25\n",
      "5\n"
     ]
    }
   ],
   "source": [
    "##calculate the square root of a given number.\n",
    "num=int(input())\n",
    "print(int(num**(1/2)))"
   ]
  },
  {
   "cell_type": "code",
   "execution_count": 18,
   "metadata": {},
   "outputs": [
    {
     "name": "stdout",
     "output_type": "stream",
     "text": [
      "123456789\n",
      "9\n"
     ]
    }
   ],
   "source": [
    "###write a program to find the length of the digit:\n",
    "num=int(input())\n",
    "print(len(str(num)))"
   ]
  },
  {
   "cell_type": "code",
   "execution_count": 20,
   "metadata": {},
   "outputs": [
    {
     "name": "stdout",
     "output_type": "stream",
     "text": [
      "10\n",
      "is a factor 1000\n"
     ]
    }
   ],
   "source": [
    "### program to find given number is a factor of 1000 or not\n",
    "num=int(input())\n",
    "if(1000%num==0):\n",
    "    print(\"is a factor 1000\")\n",
    "else:\n",
    "    print(\"is not a factor 1000\")"
   ]
  },
  {
   "cell_type": "code",
   "execution_count": 21,
   "metadata": {},
   "outputs": [
    {
     "name": "stdout",
     "output_type": "stream",
     "text": [
      "lower bound5\n",
      "upper bound125\n",
      "852\n",
      "852 not in given range\n"
     ]
    }
   ],
   "source": [
    "###write a program to find the given number is the given range\n",
    "n1=int(input(\"lower bound\"))\n",
    "n2=int(input(\"upper bound\"))\n",
    "num=int(input())\n",
    "if(n1<num<n2):\n",
    "    print(num,\"is in given range\")\n",
    "else:\n",
    "    print(num,\"not in given range\")"
   ]
  },
  {
   "cell_type": "code",
   "execution_count": 34,
   "metadata": {},
   "outputs": [
    {
     "name": "stdout",
     "output_type": "stream",
     "text": [
      "1#2#3#4\n",
      "10\n"
     ]
    }
   ],
   "source": [
    "###write a program to print sum of given 4 numbers using one input\n",
    "n=input()\n",
    "n=n.split(\"#\")\n",
    "sum=0\n",
    "for i in n:\n",
    "    sum=sum+int(i)\n",
    "print(sum)"
   ]
  },
  {
   "cell_type": "code",
   "execution_count": 40,
   "metadata": {},
   "outputs": [
    {
     "name": "stdout",
     "output_type": "stream",
     "text": [
      "1 2 3 4\n",
      "2.5\n",
      "4\n"
     ]
    }
   ],
   "source": [
    "###print count of numbers taking by the user in a single line\n",
    "count=0\n",
    "n=input()\n",
    "n=n.split(\" \")\n",
    "sum=0\n",
    "for i in n:\n",
    "    count=count+1\n",
    "    sum=sum+int(i)\n",
    "print(sum/int(i))\n",
    "print(count)"
   ]
  },
  {
   "cell_type": "code",
   "execution_count": 42,
   "metadata": {},
   "outputs": [
    {
     "name": "stdout",
     "output_type": "stream",
     "text": [
      "master\n",
      "not palindrome\n"
     ]
    }
   ],
   "source": [
    "###given string is palindrome or not\n",
    "string=input()\n",
    "str=string[::-1]\n",
    "if(string==str):\n",
    "    print(\"palindrome\")\n",
    "else:\n",
    "    print(\"not palindrome\")"
   ]
  },
  {
   "cell_type": "code",
   "execution_count": 47,
   "metadata": {},
   "outputs": [
    {
     "name": "stdout",
     "output_type": "stream",
     "text": [
      "1401601499\n",
      "is divisible\n"
     ]
    }
   ],
   "source": [
    "###ISBN:1*digit1+2*digit2+3*digit3+4*digit4+5*digit5+6*digit6+7*digit7+8*digit8+9*digit9+10*digit10 should be divisible by 11\n",
    "num=int(input())\n",
    "i=10\n",
    "sum=0\n",
    "while(num!=0):\n",
    "    r=num%10\n",
    "    sum=sum+(i*r)\n",
    "    num=num//10\n",
    "    i=i-1\n",
    "if(sum%11==0):\n",
    "    print(\"is divisible\")\n",
    "else:\n",
    "    print(\"not divisible\")"
   ]
  },
  {
   "cell_type": "code",
   "execution_count": 51,
   "metadata": {},
   "outputs": [
    {
     "data": {
      "text/plain": [
       "'PYthON prOgrAmIng'"
      ]
     },
     "execution_count": 51,
     "metadata": {},
     "output_type": "execute_result"
    }
   ],
   "source": [
    "###program to change the case of each character\n",
    "string=\"pyTHon PRoGRaMiNG\"\n",
    "string.swapcase()"
   ]
  },
  {
   "cell_type": "code",
   "execution_count": 54,
   "metadata": {},
   "outputs": [
    {
     "name": "stdout",
     "output_type": "stream",
     "text": [
      "j\n",
      "j\n",
      "identical\n"
     ]
    }
   ],
   "source": [
    "###write a program to find whether the given string is identical or not\n",
    "str1=input()\n",
    "str2=input()\n",
    "if(str1==str2):\n",
    "    print(\"identical\")\n",
    "else:\n",
    "    print(\"not identical\")\n"
   ]
  },
  {
   "cell_type": "code",
   "execution_count": 50,
   "metadata": {},
   "outputs": [],
   "source": [
    "### a weight is 1 b weight is 2 so sumation of aba is 4(1+2+1=4)\n"
   ]
  },
  {
   "cell_type": "code",
   "execution_count": null,
   "metadata": {},
   "outputs": [],
   "source": [
    "###E-mazein:x and y axis need to take input like LLRDDR(STRINGS)"
   ]
  }
 ],
 "metadata": {
  "kernelspec": {
   "display_name": "Python 3",
   "language": "python",
   "name": "python3"
  },
  "language_info": {
   "codemirror_mode": {
    "name": "ipython",
    "version": 3
   },
   "file_extension": ".py",
   "mimetype": "text/x-python",
   "name": "python",
   "nbconvert_exporter": "python",
   "pygments_lexer": "ipython3",
   "version": "3.7.3"
  }
 },
 "nbformat": 4,
 "nbformat_minor": 2
}
