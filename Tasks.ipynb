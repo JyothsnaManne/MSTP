{
 "cells": [
  {
   "cell_type": "code",
   "execution_count": 10,
   "metadata": {},
   "outputs": [
    {
     "name": "stdout",
     "output_type": "stream",
     "text": [
      "2\n",
      "3\n",
      "5\n",
      "7\n",
      "11\n",
      "13\n"
     ]
    }
   ],
   "source": [
    "###26-august-2019\n",
    "###write a program to print first 15 prime numbers.\n",
    "\n",
    "for i in range(1,16):\n",
    "    count=0\n",
    "    for j in range(1,i+1):\n",
    "        if i%j==0:\n",
    "            count=count+1\n",
    "    if count==2:\n",
    "        print(i)"
   ]
  },
  {
   "cell_type": "code",
   "execution_count": 3,
   "metadata": {},
   "outputs": [
    {
     "name": "stdout",
     "output_type": "stream",
     "text": [
      "5\n",
      "120\n"
     ]
    }
   ],
   "source": [
    "###write a program to find factorial of a given number\n",
    "num=int(input())\n",
    "f=1\n",
    "sum=1\n",
    "for i in range(1,num+1):\n",
    "    f1=f*i\n",
    "    sum=sum*f1\n",
    "print(sum)"
   ]
  },
  {
   "cell_type": "code",
   "execution_count": 14,
   "metadata": {},
   "outputs": [
    {
     "name": "stdout",
     "output_type": "stream",
     "text": [
      "4\n",
      "2\n"
     ]
    }
   ],
   "source": [
    "##calculate the square root of a given number.\n",
    "import math\n",
    "num=int(input())\n",
    "print(int(math.sqrt(num)))"
   ]
  },
  {
   "cell_type": "code",
   "execution_count": 17,
   "metadata": {},
   "outputs": [
    {
     "name": "stdout",
     "output_type": "stream",
     "text": [
      "25\n",
      "5\n"
     ]
    }
   ],
   "source": [
    "##calculate the square root of a given number.\n",
    "num=int(input())\n",
    "print(int(num**(1/2)))"
   ]
  },
  {
   "cell_type": "code",
   "execution_count": 18,
   "metadata": {},
   "outputs": [
    {
     "name": "stdout",
     "output_type": "stream",
     "text": [
      "123456789\n",
      "9\n"
     ]
    }
   ],
   "source": [
    "###write a program to find the length of the digit:\n",
    "num=int(input())\n",
    "print(len(str(num)))"
   ]
  },
  {
   "cell_type": "code",
   "execution_count": 20,
   "metadata": {},
   "outputs": [
    {
     "name": "stdout",
     "output_type": "stream",
     "text": [
      "10\n",
      "is a factor 1000\n"
     ]
    }
   ],
   "source": [
    "### program to find given number is a factor of 1000 or not\n",
    "num=int(input())\n",
    "if(1000%num==0):\n",
    "    print(\"is a factor 1000\")\n",
    "else:\n",
    "    print(\"is not a factor 1000\")"
   ]
  },
  {
   "cell_type": "code",
   "execution_count": 21,
   "metadata": {},
   "outputs": [
    {
     "name": "stdout",
     "output_type": "stream",
     "text": [
      "lower bound5\n",
      "upper bound125\n",
      "852\n",
      "852 not in given range\n"
     ]
    }
   ],
   "source": [
    "###27-august-2019\n",
    "###write a program to find the given number is the given range\n",
    "n1=int(input(\"lower bound\"))\n",
    "n2=int(input(\"upper bound\"))\n",
    "num=int(input())\n",
    "if(n1<num<n2):\n",
    "    print(num,\"is in given range\")\n",
    "else:\n",
    "    print(num,\"not in given range\")"
   ]
  },
  {
   "cell_type": "code",
   "execution_count": 34,
   "metadata": {},
   "outputs": [
    {
     "name": "stdout",
     "output_type": "stream",
     "text": [
      "1#2#3#4\n",
      "10\n"
     ]
    }
   ],
   "source": [
    "###write a program to print sum of given 4 numbers using one input\n",
    "n=input()\n",
    "n=n.split(\"#\")\n",
    "sum=0\n",
    "for i in n:\n",
    "    sum=sum+int(i)\n",
    "print(sum)"
   ]
  },
  {
   "cell_type": "code",
   "execution_count": 40,
   "metadata": {},
   "outputs": [
    {
     "name": "stdout",
     "output_type": "stream",
     "text": [
      "1 2 3 4\n",
      "2.5\n",
      "4\n"
     ]
    }
   ],
   "source": [
    "###print count of numbers taking by the user in a single line\n",
    "count=0\n",
    "n=input()\n",
    "n=n.split(\" \")\n",
    "sum=0\n",
    "for i in n:\n",
    "    count=count+1\n",
    "    sum=sum+int(i)\n",
    "print(sum/int(i))\n",
    "print(count)"
   ]
  },
  {
   "cell_type": "code",
   "execution_count": 42,
   "metadata": {},
   "outputs": [
    {
     "name": "stdout",
     "output_type": "stream",
     "text": [
      "master\n",
      "not palindrome\n"
     ]
    }
   ],
   "source": [
    "###given string is palindrome or not\n",
    "string=input()\n",
    "str=string[::-1]\n",
    "if(string==str):\n",
    "    print(\"palindrome\")\n",
    "else:\n",
    "    print(\"not palindrome\")"
   ]
  },
  {
   "cell_type": "code",
   "execution_count": 47,
   "metadata": {},
   "outputs": [
    {
     "name": "stdout",
     "output_type": "stream",
     "text": [
      "1401601499\n",
      "is divisible\n"
     ]
    }
   ],
   "source": [
    "###ISBN:1*digit1+2*digit2+3*digit3+4*digit4+5*digit5+6*digit6+7*digit7+8*digit8+9*digit9+10*digit10 should be divisible by 11\n",
    "num=int(input())\n",
    "i=10\n",
    "sum=0\n",
    "while(num!=0):\n",
    "    r=num%10\n",
    "    sum=sum+(i*r)\n",
    "    num=num//10\n",
    "    i=i-1\n",
    "if(sum%11==0):\n",
    "    print(\"is divisible\")\n",
    "else:\n",
    "    print(\"not divisible\")"
   ]
  },
  {
   "cell_type": "code",
   "execution_count": 51,
   "metadata": {},
   "outputs": [
    {
     "data": {
      "text/plain": [
       "'PYthON prOgrAmIng'"
      ]
     },
     "execution_count": 51,
     "metadata": {},
     "output_type": "execute_result"
    }
   ],
   "source": [
    "###program to change the case of each character\n",
    "string=\"pyTHon PRoGRaMiNG\"\n",
    "string.swapcase()"
   ]
  },
  {
   "cell_type": "code",
   "execution_count": 54,
   "metadata": {},
   "outputs": [
    {
     "name": "stdout",
     "output_type": "stream",
     "text": [
      "j\n",
      "j\n",
      "identical\n"
     ]
    }
   ],
   "source": [
    "###write a program to find whether the given string is identical or not\n",
    "str1=input()\n",
    "str2=input()\n",
    "if(str1==str2):\n",
    "    print(\"identical\")\n",
    "else:\n",
    "    print(\"not identical\")\n"
   ]
  },
  {
   "cell_type": "code",
   "execution_count": 62,
   "metadata": {},
   "outputs": [
    {
     "name": "stdout",
     "output_type": "stream",
     "text": [
      "abc\n",
      "6\n"
     ]
    }
   ],
   "source": [
    "###28-august-2019\n",
    "### a weight is 1 b weight is 2 so sumation of aba is 4(1+2+1=4)\n",
    "num=input()\n",
    "sum=0\n",
    "l=len(num)\n",
    "for i in range(l):\n",
    "        a=ord(num[i])-ord('a')+1\n",
    "        sum=sum+a\n",
    "print(sum)"
   ]
  },
  {
   "cell_type": "code",
   "execution_count": 66,
   "metadata": {},
   "outputs": [
    {
     "name": "stdout",
     "output_type": "stream",
     "text": [
      "Enter input like LLRDDR:LLRDDR\n",
      "-1 0\n",
      "-2 0\n",
      "-1 0\n",
      "-1 -1\n",
      "-1 -2\n",
      "0 -2\n"
     ]
    }
   ],
   "source": [
    "###E-mazein:x and y axis need to take input like LLRDDR(STRINGS)\n",
    "a=input(\"Enter input like LLRDDR:\")\n",
    "x,y=0,0\n",
    "for i in a:\n",
    "    if(i=='L'):\n",
    "        x-=1\n",
    "        y=y\n",
    "    elif(i=='R'):\n",
    "        x+=1\n",
    "        y=y\n",
    "    elif(i=='D'):\n",
    "        x=x\n",
    "        y-=1\n",
    "    elif(i=='U'):\n",
    "        x=x\n",
    "        y+=1\n",
    "    print(x,y)\n"
   ]
  },
  {
   "cell_type": "code",
   "execution_count": 2,
   "metadata": {},
   "outputs": [
    {
     "name": "stdout",
     "output_type": "stream",
     "text": [
      "enter the integer1 % 2\n",
      "1\n"
     ]
    }
   ],
   "source": [
    "##take two operands and operator in single line\n",
    "num=(input(\"enter the integer\"))\n",
    "num=num.split()\n",
    "\n",
    "if num[1]=='+':\n",
    "    print(int(num[0])+int(num[2]))\n",
    "elif num[1]=='-':\n",
    "    print(int(num[0])-int(num[2]))\n",
    "elif num[1]=='*':\n",
    "    print(int(num[0])*int(num[2]))\n",
    "elif num[1]=='/':\n",
    "    print(int(num[0])//int(num[2]))\n",
    "elif num[1]=='%':\n",
    "    print(int(num[0])%int(num[2]))"
   ]
  },
  {
   "cell_type": "code",
   "execution_count": 3,
   "metadata": {},
   "outputs": [
    {
     "name": "stdout",
     "output_type": "stream",
     "text": [
      "enter the width160\n",
      "enter the height180\n",
      "upload another photo\n"
     ]
    }
   ],
   "source": [
    "###upload profile photo\n",
    "l=180\n",
    "w=int(input(\"enter the width\"))\n",
    "h=int(input(\"enter the height\"))\n",
    "\n",
    "if(l==w==h):\n",
    "    print(\"your photo is upto the mark\")\n",
    "elif((w<l)|(h<l)):\n",
    "    print(\"upload another photo\")\n",
    "elif((w>l)|(h>l)):\n",
    "    print(\"have to crop the image\")\n",
    "    if((w>l)and(l==h)):\n",
    "        wi=w-l\n",
    "        print(\"you have to crop\",+wi,\"in the width\")\n",
    "    elif((l==w)and(h>l)):\n",
    "        hi=h-l\n",
    "        print(\"you have to crop\",+hi,\"in the height\")\n",
    "    elif((w>l)and(h>l)):\n",
    "        wi=w-l\n",
    "        print(\"you have to crop\",+wi,\"in the width\")\n",
    "        hi=h-l\n",
    "        print(\"you have to crop\",+hi,\"in the height\")"
   ]
  },
  {
   "cell_type": "code",
   "execution_count": 7,
   "metadata": {},
   "outputs": [
    {
     "name": "stdout",
     "output_type": "stream",
     "text": [
      "7\n"
     ]
    },
    {
     "data": {
      "text/plain": [
       "5040"
      ]
     },
     "execution_count": 7,
     "metadata": {},
     "output_type": "execute_result"
    }
   ],
   "source": [
    "###30-august-2019\n",
    "### factorial of a given nuber using functions\n",
    "def fact(n):\n",
    "    f=s=1\n",
    "    for i in range (1,n+1):\n",
    "        f1=f*i\n",
    "        s=s*f1\n",
    "    return s\n",
    "num=int(input())\n",
    "fact(num)"
   ]
  },
  {
   "cell_type": "code",
   "execution_count": 9,
   "metadata": {},
   "outputs": [
    {
     "name": "stdout",
     "output_type": "stream",
     "text": [
      "100\n",
      "250\n",
      "102\n",
      "108\n",
      "114\n",
      "120\n",
      "126\n",
      "132\n",
      "138\n",
      "144\n",
      "150\n",
      "156\n",
      "162\n",
      "168\n",
      "174\n",
      "180\n",
      "186\n",
      "192\n",
      "198\n",
      "204\n",
      "210\n",
      "216\n",
      "222\n",
      "228\n",
      "234\n",
      "240\n",
      "246\n"
     ]
    }
   ],
   "source": [
    "###Function to print all number divisible by 6 and not a factor of 100 in a given range(l,U) both inclusive\n",
    "def divisible(l,u):\n",
    "    for i in range(l,u+1):\n",
    "        if(i%6==0 and 100%i!=0):\n",
    "            print(i)\n",
    "lower=int(input())\n",
    "upper=int(input())\n",
    "divisible(lower,upper)"
   ]
  },
  {
   "cell_type": "code",
   "execution_count": 13,
   "metadata": {},
   "outputs": [
    {
     "name": "stdout",
     "output_type": "stream",
     "text": [
      "2\n",
      "10\n"
     ]
    },
    {
     "data": {
      "text/plain": [
       "360.0"
      ]
     },
     "execution_count": 13,
     "metadata": {},
     "output_type": "execute_result"
    }
   ],
   "source": [
    "### Function to find the average of cubes of all the even numbers in a given range (l,u)inclusive\n",
    "def average_even(l,u):\n",
    "    s=0\n",
    "    c=0\n",
    "    for i in range(l,u+1):\n",
    "        if(i%2==0):\n",
    "            e=i**3\n",
    "            s=s+e\n",
    "            c=c+1\n",
    "    return s/c\n",
    "lower=int(input())\n",
    "upper=int(input())\n",
    "average_even(lower,upper)"
   ]
  },
  {
   "cell_type": "code",
   "execution_count": 16,
   "metadata": {},
   "outputs": [
    {
     "name": "stdout",
     "output_type": "stream",
     "text": [
      "8\n",
      "1\n",
      "2\n",
      "4\n",
      "8\n"
     ]
    }
   ],
   "source": [
    "### Function to generate a factor for a given number\n",
    "def number(n):\n",
    "    for i in range(1,n+1):\n",
    "        if(n%i==0):\n",
    "            print(i)\n",
    "num=int(input())\n",
    "number(num)"
   ]
  },
  {
   "cell_type": "code",
   "execution_count": 21,
   "metadata": {},
   "outputs": [
    {
     "name": "stdout",
     "output_type": "stream",
     "text": [
      "71\n",
      "71 is prime\n"
     ]
    }
   ],
   "source": [
    "###Function to check a number is prime\n",
    "def prime(n):\n",
    "    c=0\n",
    "    for i in range(1,n+1):\n",
    "        if(n%i==0):\n",
    "            c=c+1\n",
    "    if(c==2):\n",
    "        print(n,\"is prime\")\n",
    "    else:\n",
    "        print(n,\"not prime\")\n",
    "num=int(input())\n",
    "prime(num)"
   ]
  },
  {
   "cell_type": "code",
   "execution_count": 34,
   "metadata": {},
   "outputs": [
    {
     "name": "stdout",
     "output_type": "stream",
     "text": [
      "5\n",
      "10\n",
      "5 not prime\n",
      "6 not prime\n",
      "7 not prime\n",
      "8 not prime\n",
      "9 not prime\n",
      "10 not prime\n"
     ]
    }
   ],
   "source": [
    "###Function to calculate the average  of first N Prime Numbers\n",
    "def prime(l,u):\n",
    "    c=0\n",
    "    k=l\n",
    "    \n",
    "    for i in range(l,u+1):\n",
    "        \n",
    "        for j in range(1,i):\n",
    "            if(i%j==0):\n",
    "                c=c+1\n",
    "        if(c==2):\n",
    "            print(i,\"is prime\")\n",
    "        else:\n",
    "            print(i,\"not prime\")\n",
    "num=int(input())\n",
    "num1=int(input())\n",
    "prime(num,num1)"
   ]
  },
  {
   "cell_type": "code",
   "execution_count": 35,
   "metadata": {},
   "outputs": [
    {
     "name": "stdout",
     "output_type": "stream",
     "text": [
      "10\n",
      "50\n",
      "28\n"
     ]
    }
   ],
   "source": [
    "###Function to print all perfect numbers in a given range\n",
    "def perfect_num(l,u):\n",
    "    s=0\n",
    "    for i in range(l,u+1):\n",
    "        for j in range(1,i):\n",
    "            if(i%j==0):\n",
    "                s+=j\n",
    "        if(s==i):\n",
    "            print(i)\n",
    "        s=0\n",
    "lower=int(input())\n",
    "upper=int(input())\n",
    "perfect_num(lower,upper)"
   ]
  },
  {
   "cell_type": "code",
   "execution_count": 36,
   "metadata": {},
   "outputs": [
    {
     "name": "stdout",
     "output_type": "stream",
     "text": [
      "enter a number25\n",
      "42.4\n"
     ]
    }
   ],
   "source": [
    "###average of first N prime numbers\n",
    "def avgfirstnprime(n):\n",
    "    i=1\n",
    "    x=2\n",
    "    s=0\n",
    "    flag=0\n",
    "    while i<=n:\n",
    "        for j in range(2,x):\n",
    "            if(x%j==0):\n",
    "                flag+=1\n",
    "        if(flag==0):\n",
    "            i+=1\n",
    "            s+=x\n",
    "            x+=1\n",
    "        else:\n",
    "            x=x+1\n",
    "            flag=0\n",
    "    return s/n\n",
    "n=int(input('enter a number'))\n",
    "print(avgfirstnprime(n))  "
   ]
  },
  {
   "cell_type": "code",
   "execution_count": 8,
   "metadata": {},
   "outputs": [
    {
     "name": "stdout",
     "output_type": "stream",
     "text": [
      "6\n",
      "3\n"
     ]
    }
   ],
   "source": [
    "def prime(n):\n",
    "    count=0\n",
    "    for i in range(1,n+1):\n",
    "        for j in range(1,i):\n",
    "            if(i%j==0):\n",
    "                count=count+1\n",
    "        \n",
    "        if(count==2):\n",
    "            print(i)\n",
    "           \n",
    "num=int(input())\n",
    "prime(num)"
   ]
  },
  {
   "cell_type": "code",
   "execution_count": 51,
   "metadata": {},
   "outputs": [
    {
     "name": "stdout",
     "output_type": "stream",
     "text": [
      "5\n",
      "1 2 3 4 5\n",
      "['1', '2', '3', '4', '5']\n",
      "1\n",
      "2\n",
      "3\n",
      "4\n",
      "5\n",
      "3125\n"
     ]
    }
   ],
   "source": [
    "'''\n",
    "# Sample code to perform I/O:\n",
    "\n",
    "name = input()                  # Reading input from STDIN\n",
    "print('Hi, %s.' % name)         # Writing output to STDOUT\n",
    "\n",
    "# Warning: Printing unwanted or ill-formatted data to output will cause the test cases to fail\n",
    "'''\n",
    "\n",
    "# Write your code here\n",
    "num=int(input())\n",
    "s=1\n",
    "n1=(input())\n",
    "n2=n1.split()\n",
    "print(n2)\n",
    "for i in range(0,len(n2)):\n",
    "    print(int(n2[i]))\n",
    "    s=s*p\n",
    "print(s)\n"
   ]
  },
  {
   "cell_type": "code",
   "execution_count": 52,
   "metadata": {},
   "outputs": [
    {
     "name": "stdout",
     "output_type": "stream",
     "text": [
      "jyosh\n",
      "hritika\n"
     ]
    }
   ],
   "source": [
    "###3 september\n",
    "###print highest marks of the student\n",
    "students=[[\"jyo\",10,20,30],[\"jyosh\",30,40,60],[\"hritika\",30,40,60]]\n",
    "high=0\n",
    "for i in students:\n",
    "    name=i[0]\n",
    "    marks=i[1]+i[2]+i[3]\n",
    "    if high<marks:\n",
    "        high=marks\n",
    "for i in students:\n",
    "    name=i[0]\n",
    "    marks=i[1]+i[2]+i[3]\n",
    "    if high==marks:\n",
    "        print(name)"
   ]
  },
  {
   "cell_type": "code",
   "execution_count": 49,
   "metadata": {},
   "outputs": [
    {
     "name": "stdout",
     "output_type": "stream",
     "text": [
      "[[2, 50, 10], [1, 30, 40], [3, 40, 100]]\n"
     ]
    }
   ],
   "source": [
    "####sorting should be done on list second element\n",
    "students=[[1,30,40],[3,40,100],[2,50,10]]\n",
    "students[0][2],students[0][0]=students[0][0],students[0][2]\n",
    "students[1][2],students[1][0]=students[1][0],students[1][2]\n",
    "students[2][2],students[2][0]=students[2][0],students[2][2]\n",
    "students.sort()\n",
    "students[0][0],students[0][2]=students[0][2],students[0][0]\n",
    "students[1][0],students[1][2]=students[1][2],students[1][0]\n",
    "students[2][0],students[2][2]=students[2][2],students[2][0]\n",
    "print(students)"
   ]
  },
  {
   "cell_type": "code",
   "execution_count": 2,
   "metadata": {},
   "outputs": [
    {
     "name": "stdout",
     "output_type": "stream",
     "text": [
      "15\n",
      "3\n"
     ]
    }
   ],
   "source": [
    "###find the number of characters(a-z and A-Z)\n",
    "###find the number of numbers in the given string\n",
    "count=count1=0\n",
    "data=\"Jyothsna 123 Hritika\"\n",
    "for i in data:\n",
    "    if(\"A\"<=i<=\"Z\" or \"a\"<=i<=\"z\"):\n",
    "        count=count+1\n",
    "    elif(\"0\"<=i<\"9\"):\n",
    "        count1=count1+1\n",
    "print(count)\n",
    "print(count1)"
   ]
  },
  {
   "cell_type": "code",
   "execution_count": 3,
   "metadata": {},
   "outputs": [],
   "source": [
    "###sum of digits\n",
    "def sum_digit(data):\n",
    "    r=c=0\n",
    "    for i in data:\n",
    "        if i.isdigit():\n",
    "            r=r+int(i)\n",
    "    return r"
   ]
  },
  {
   "cell_type": "code",
   "execution_count": 4,
   "metadata": {},
   "outputs": [
    {
     "data": {
      "text/plain": [
       "6"
      ]
     },
     "execution_count": 4,
     "metadata": {},
     "output_type": "execute_result"
    }
   ],
   "source": [
    "sum_digit(data)"
   ]
  },
  {
   "cell_type": "code",
   "execution_count": 13,
   "metadata": {},
   "outputs": [
    {
     "name": "stdout",
     "output_type": "stream",
     "text": [
      "2.0\n"
     ]
    }
   ],
   "source": [
    "###average of numbers in a string\n",
    "c=0\n",
    "for i in data:\n",
    "    if i.isdigit():\n",
    "        c=c+1\n",
    "        \n",
    "a=sum_digit(data)\n",
    "print(a/c)"
   ]
  },
  {
   "cell_type": "code",
   "execution_count": 61,
   "metadata": {},
   "outputs": [
    {
     "name": "stdout",
     "output_type": "stream",
     "text": [
      "3\n"
     ]
    }
   ],
   "source": [
    "####lucky number\n",
    "data=\"123456\"\n",
    "while True:\n",
    "    r=str(sum_digit(data))\n",
    "    if(len(r)>1):\n",
    "        data=r\n",
    "    else:\n",
    "        break\n",
    "print(r)"
   ]
  },
  {
   "cell_type": "code",
   "execution_count": 62,
   "metadata": {},
   "outputs": [
    {
     "name": "stdout",
     "output_type": "stream",
     "text": [
      "{'alpha': 5, 'digits': 4}\n"
     ]
    }
   ],
   "source": [
    "data=\"jyosh1234\"\n",
    "r={}\n",
    "for c in data:\n",
    "    if c.isalpha():\n",
    "        r['alpha']=r.get('alpha',0)+1\n",
    "    if c.isdigit():\n",
    "        r['digits']=r.get('digits',0)+1\n",
    "print(r)"
   ]
  },
  {
   "cell_type": "code",
   "execution_count": 27,
   "metadata": {},
   "outputs": [
    {
     "name": "stdout",
     "output_type": "stream",
     "text": [
      "{'J': 1, 'y': 1, 'o': 1, 't': 2, 'h': 2, 's': 1, 'n': 1, 'a': 2, ' ': 1, 'r': 1, 'i': 2, 'k': 1}\n"
     ]
    }
   ],
   "source": [
    "###find frequency of characters\n",
    "name=\"Jyothsna hritika\"\n",
    "frequency={}\n",
    "for i in name:\n",
    "    for j in i:\n",
    "        if(i==j):\n",
    "            frequency[i]=frequency.get(i,0)+1\n",
    "            \n",
    "print(frequency)\n",
    "        "
   ]
  },
  {
   "cell_type": "code",
   "execution_count": 54,
   "metadata": {},
   "outputs": [
    {
     "name": "stdout",
     "output_type": "stream",
     "text": [
      "{'www.gmail.com': 1, 'www.yahoo.com': 1, 'www.google.com': 1}\n"
     ]
    }
   ],
   "source": [
    "####find frequency of urls\n",
    "urls={'www.google.com','www.gmail.com','www.yahoo.com','www.google.com'}\n",
    "frequency={}\n",
    "for i in urls:\n",
    "    for j in urls:\n",
    "        if(i==j):\n",
    "            frequency[i]=frequency.get(i,0)+1\n",
    "print(frequency)"
   ]
  },
  {
   "cell_type": "code",
   "execution_count": 3,
   "metadata": {},
   "outputs": [
    {
     "name": "stdout",
     "output_type": "stream",
     "text": [
      "apple\n"
     ]
    }
   ],
   "source": [
    "####4september\n",
    "####develop pattern for company name endswith 'e' and must have 5 characters\n",
    "import re\n",
    "companies=['google','apple','microsoft','tcs']\n",
    "for i in companies:\n",
    "    if(re.search('^....e$',i)):\n",
    "        print(i)\n",
    "  "
   ]
  },
  {
   "cell_type": "code",
   "execution_count": 29,
   "metadata": {},
   "outputs": [
    {
     "name": "stdout",
     "output_type": "stream",
     "text": [
      "i a m f r o m v i j a y a w a d a m y m y m o b i l e n u m b e r i s w e s t a y h e r e f r o m l a s t d a y s "
     ]
    }
   ],
   "source": [
    "##### print only characters in the message\n",
    "message=\"\"\" iam from &&vijayawada$my my mobile number is  9866131508 we stay here from last 3 days\"\"\"\n",
    "for i in message:\n",
    "    if(re.findall('[a-zA-Z]+',i)):\n",
    "        print(i, end=\" \")"
   ]
  },
  {
   "cell_type": "code",
   "execution_count": 28,
   "metadata": {},
   "outputs": [
    {
     "data": {
      "text/plain": [
       "['iam',\n",
       " 'from',\n",
       " 'vijayawada',\n",
       " 'my',\n",
       " 'my',\n",
       " 'mobile',\n",
       " 'number',\n",
       " 'is',\n",
       " 'we',\n",
       " 'stay',\n",
       " 'here',\n",
       " 'from',\n",
       " 'last',\n",
       " 'days']"
      ]
     },
     "execution_count": 28,
     "metadata": {},
     "output_type": "execute_result"
    }
   ],
   "source": [
    "re.findall('[a-zA-Z]+',message)"
   ]
  },
  {
   "cell_type": "code",
   "execution_count": 30,
   "metadata": {},
   "outputs": [
    {
     "data": {
      "text/plain": [
       "['123', '456']"
      ]
     },
     "execution_count": 30,
     "metadata": {},
     "output_type": "execute_result"
    }
   ],
   "source": [
    "data=\"jyo 123 jyo 456\"\n",
    "re.findall('\\d+',data)"
   ]
  },
  {
   "cell_type": "code",
   "execution_count": 31,
   "metadata": {},
   "outputs": [],
   "source": [
    "####pattern for email id"
   ]
  },
  {
   "cell_type": "code",
   "execution_count": 11,
   "metadata": {},
   "outputs": [
    {
     "name": "stdout",
     "output_type": "stream",
     "text": [
      "6549873210\n",
      "valid\n"
     ]
    }
   ],
   "source": [
    "###create a function to check the given data is valid or not for given pattern\n",
    "def mobile(num):\n",
    "    if(re.search('^[6-9]\\d{9}$',num)):\n",
    "        print(\"valid\")\n",
    "    else:\n",
    "        print(\"invalid\")\n",
    "num=(input())        \n",
    "mobile(num)\n",
    "\n",
    "    "
   ]
  },
  {
   "cell_type": "code",
   "execution_count": 5,
   "metadata": {},
   "outputs": [
    {
     "name": "stdout",
     "output_type": "stream",
     "text": [
      "jyothsna.m\n",
      "invalid\n"
     ]
    }
   ],
   "source": [
    "####create a person name validator \n",
    "###(M.jyothsna,jyothsna.M,jyothsna manne,manne jyothsna,jyothsna)\n",
    "import re\n",
    "def person(name):\n",
    "    if(re.search('^[a-zA-Z]+[ .]{0,1}[a-zA-z]+[ ]*[a-zA-z]+$',name)):\n",
    "            print(\"valid\")\n",
    "    else:\n",
    "        print(\"invalid\")\n",
    "name=input()\n",
    "person(name)"
   ]
  },
  {
   "cell_type": "code",
   "execution_count": 44,
   "metadata": {},
   "outputs": [],
   "source": [
    "###create function to check given data valid or not for given pattern\n",
    "def validate(pattern,data):\n",
    "    if(pattern==('^[a-zA-Z]$')):\n",
    "        re.search(pattern,data)\n",
    "    else:\n",
    "        return False"
   ]
  },
  {
   "cell_type": "code",
   "execution_count": null,
   "metadata": {},
   "outputs": [],
   "source": []
  }
 ],
 "metadata": {
  "kernelspec": {
   "display_name": "Python 3",
   "language": "python",
   "name": "python3"
  },
  "language_info": {
   "codemirror_mode": {
    "name": "ipython",
    "version": 3
   },
   "file_extension": ".py",
   "mimetype": "text/x-python",
   "name": "python",
   "nbconvert_exporter": "python",
   "pygments_lexer": "ipython3",
   "version": "3.7.3"
  }
 },
 "nbformat": 4,
 "nbformat_minor": 2
}
