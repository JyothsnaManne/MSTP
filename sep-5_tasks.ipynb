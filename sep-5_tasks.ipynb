{
 "cells": [
  {
   "cell_type": "code",
   "execution_count": 3,
   "metadata": {},
   "outputs": [
    {
     "name": "stdout",
     "output_type": "stream",
     "text": [
      "jyOThsNA 1\n"
     ]
    }
   ],
   "source": [
    "###find no.of lines in book.txt file\n",
    "f=open(\"Jyo1.txt\",'r')\n",
    "count=0\n",
    "for line in f:\n",
    "    count=count+1\n",
    "    print(line,count)"
   ]
  },
  {
   "cell_type": "code",
   "execution_count": 2,
   "metadata": {},
   "outputs": [],
   "source": [
    "#####write the content from book,txt to Jyo1.txt\n",
    "f=open(\"book.txt\",'r')\n",
    "f1=open(\"Jyo1.txt\",'w')\n",
    "d=f.read()\n",
    "f1.write(d)\n",
    "f1.close()\n",
    "f.close()"
   ]
  },
  {
   "cell_type": "code",
   "execution_count": 21,
   "metadata": {},
   "outputs": [
    {
     "name": "stdout",
     "output_type": "stream",
     "text": [
      "JYOTHSNA\n",
      "\n"
     ]
    }
   ],
   "source": [
    "####print 3rd line in file\n",
    "f=open(\"Book.txt\",'r')\n",
    "c=0\n",
    "for line in f:\n",
    "    c=c+1\n",
    "    if(c==3):\n",
    "        print(line)\n",
    "f.close()   "
   ]
  },
  {
   "cell_type": "code",
   "execution_count": 22,
   "metadata": {},
   "outputs": [
    {
     "name": "stdout",
     "output_type": "stream",
     "text": [
      "JYOTHSNA\n",
      "\n",
      "A\n"
     ]
    }
   ],
   "source": [
    "####print last character in the 3rd line\n",
    "f=open(\"Book.txt\",'r')\n",
    "c=0\n",
    "for line in f:\n",
    "    c=c+1\n",
    "    if(c==3):\n",
    "        print(line)\n",
    "        print(line[-2])\n",
    "f.close()"
   ]
  },
  {
   "cell_type": "code",
   "execution_count": 42,
   "metadata": {},
   "outputs": [
    {
     "name": "stdout",
     "output_type": "stream",
     "text": [
      "40\n"
     ]
    }
   ],
   "source": [
    "####create a function to return data in given line number\n",
    "def character(f):\n",
    "    c=0\n",
    "    for l in f:\n",
    "        for j in l:\n",
    "            if('a'<=j<='z' or 'A'<=j<=\"Z\"):\n",
    "                c=c+1\n",
    "    print(c)\n",
    "\n",
    "f=open(\"Book.txt\",'r')\n",
    "character(f)\n",
    "f.close()"
   ]
  },
  {
   "cell_type": "code",
   "execution_count": 44,
   "metadata": {},
   "outputs": [],
   "source": [
    "####create a function to return the data in given line number\n"
   ]
  },
  {
   "cell_type": "code",
   "execution_count": 45,
   "metadata": {},
   "outputs": [],
   "source": [
    "###create a function to count the occurences of the given character"
   ]
  },
  {
   "cell_type": "code",
   "execution_count": 46,
   "metadata": {},
   "outputs": [],
   "source": [
    "###create a function to find the sum of digits in file"
   ]
  },
  {
   "cell_type": "code",
   "execution_count": 54,
   "metadata": {},
   "outputs": [],
   "source": [
    "###create a function to replace the all old words with new words\n",
    "def replace(filename,old,new):\n",
    "    f=open(filename)\n",
    "    data=f.read()\n",
    "    data=data.replace(old,new)\n",
    "    f.close()\n",
    "    f=open(filename,'w')\n",
    "    f.write(data)\n",
    "    f.close()"
   ]
  },
  {
   "cell_type": "code",
   "execution_count": 56,
   "metadata": {},
   "outputs": [],
   "source": [
    "replace(\"Book.txt\",\"J\",\"H\")"
   ]
  },
  {
   "cell_type": "code",
   "execution_count": 71,
   "metadata": {},
   "outputs": [],
   "source": [
    "###find number of words in a file\n",
    "def character(file_name):\n",
    "    f=open(file_name,'r')\n",
    "    c=0\n",
    "    for l in f:\n",
    "        if(l==\"\\0\"):\n",
    "            c=c+1\n",
    "        print(c)\n",
    "    f.close()"
   ]
  },
  {
   "cell_type": "code",
   "execution_count": 72,
   "metadata": {},
   "outputs": [
    {
     "name": "stdout",
     "output_type": "stream",
     "text": [
      "0\n",
      "0\n",
      "0\n",
      "0\n",
      "0\n"
     ]
    }
   ],
   "source": [
    "character(\"Book.txt\")"
   ]
  },
  {
   "cell_type": "code",
   "execution_count": 95,
   "metadata": {},
   "outputs": [
    {
     "name": "stdout",
     "output_type": "stream",
     "text": [
      "3\n",
      "ghi\n",
      "\n",
      " \n"
     ]
    }
   ],
   "source": [
    "####create a function to remove the given line in file\n",
    "f=open(\"Book.txt\",'r')\n",
    "line=int(input())\n",
    "c=0\n",
    "for i in f:\n",
    "    c=c+1\n",
    "    if(c==line):\n",
    "        print(i)\n",
    "        i=i.replace(i,' ')\n",
    "        print(i)\n",
    "f.close()\n"
   ]
  },
  {
   "cell_type": "code",
   "execution_count": 73,
   "metadata": {},
   "outputs": [],
   "source": [
    "###create a function to remove the given word in file"
   ]
  },
  {
   "cell_type": "code",
   "execution_count": 123,
   "metadata": {},
   "outputs": [],
   "source": [
    "####\n",
    "f1=open(\"Book.txt\",'r')\n",
    "f2=open(\"report.txt\",'w')\n",
    "c=0\n",
    "for i in f1:\n",
    "    c=c+1\n",
    "    if(c==1):\n",
    "        f2.write(i.strip()+'\\t total\\n')\n",
    "    else:\n",
    "        marks=i.strip().split()[2:]\n",
    "        new_marks=[]\n",
    "        for each in marks:\n",
    "            new_marks.append(int(each))\n",
    "        marks=sum(new_marks)\n",
    "        f2.write(i.strip()+'\\t'+str(marks)+'\\n')\n",
    "f2.close()\n",
    "f1.close()\n",
    "    "
   ]
  },
  {
   "cell_type": "code",
   "execution_count": 124,
   "metadata": {},
   "outputs": [],
   "source": [
    "####\n",
    "f1=open(\"Book.txt\",'r')\n",
    "f2=open(\"report.txt\",'w')\n",
    "c=0\n",
    "rows=[]\n",
    "for i in f1:\n",
    "    c=c+1\n",
    "    if(c==1):\n",
    "        f2.write(i.strip()+'\\t total\\n')\n",
    "    else:\n",
    "        marks=i.strip().split()[2:]\n",
    "        new_marks=[]\n",
    "        for each in marks:\n",
    "            new_marks.append(int(each))\n",
    "        marks=sum(new_marks)\n",
    "        row=i.strip()+'\\t'+str(marks)+'\\n'\n",
    "        rows.append([marks,row])\n",
    "rows.sort(reverse=True)\n",
    "for row in rows:\n",
    "    f2.write(row[1])\n",
    "        \n",
    "f2.close()\n",
    "f1.close()\n",
    "    "
   ]
  },
  {
   "cell_type": "code",
   "execution_count": null,
   "metadata": {},
   "outputs": [],
   "source": []
  }
 ],
 "metadata": {
  "kernelspec": {
   "display_name": "Python 3",
   "language": "python",
   "name": "python3"
  },
  "language_info": {
   "codemirror_mode": {
    "name": "ipython",
    "version": 3
   },
   "file_extension": ".py",
   "mimetype": "text/x-python",
   "name": "python",
   "nbconvert_exporter": "python",
   "pygments_lexer": "ipython3",
   "version": "3.7.3"
  }
 },
 "nbformat": 4,
 "nbformat_minor": 2
}
